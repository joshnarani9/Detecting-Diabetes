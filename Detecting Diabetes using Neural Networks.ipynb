{
 "cells": [
  {
   "cell_type": "markdown",
   "metadata": {},
   "source": [
    "## detecting diabetes using neural networks"
   ]
  },
  {
   "cell_type": "code",
   "execution_count": 1,
   "metadata": {},
   "outputs": [],
   "source": [
    "import pandas as pd\n",
    "import numpy as np\n",
    "from tensorflow import keras as tfk"
   ]
  },
  {
   "cell_type": "code",
   "execution_count": 37,
   "metadata": {},
   "outputs": [],
   "source": [
    "data=pd.read_csv('diabetes.csv')"
   ]
  },
  {
   "cell_type": "code",
   "execution_count": 38,
   "metadata": {},
   "outputs": [
    {
     "data": {
      "text/html": [
       "<div>\n",
       "<style scoped>\n",
       "    .dataframe tbody tr th:only-of-type {\n",
       "        vertical-align: middle;\n",
       "    }\n",
       "\n",
       "    .dataframe tbody tr th {\n",
       "        vertical-align: top;\n",
       "    }\n",
       "\n",
       "    .dataframe thead th {\n",
       "        text-align: right;\n",
       "    }\n",
       "</style>\n",
       "<table border=\"1\" class=\"dataframe\">\n",
       "  <thead>\n",
       "    <tr style=\"text-align: right;\">\n",
       "      <th></th>\n",
       "      <th>Pregnancies</th>\n",
       "      <th>Glucose</th>\n",
       "      <th>BloodPressure</th>\n",
       "      <th>SkinThickness</th>\n",
       "      <th>Insulin</th>\n",
       "      <th>BMI</th>\n",
       "      <th>DiabetesPedigreeFunction</th>\n",
       "      <th>Age</th>\n",
       "      <th>Outcome</th>\n",
       "    </tr>\n",
       "  </thead>\n",
       "  <tbody>\n",
       "    <tr>\n",
       "      <th>0</th>\n",
       "      <td>6</td>\n",
       "      <td>148</td>\n",
       "      <td>72</td>\n",
       "      <td>35</td>\n",
       "      <td>0</td>\n",
       "      <td>33.6</td>\n",
       "      <td>0.627</td>\n",
       "      <td>50</td>\n",
       "      <td>1</td>\n",
       "    </tr>\n",
       "    <tr>\n",
       "      <th>1</th>\n",
       "      <td>1</td>\n",
       "      <td>85</td>\n",
       "      <td>66</td>\n",
       "      <td>29</td>\n",
       "      <td>0</td>\n",
       "      <td>26.6</td>\n",
       "      <td>0.351</td>\n",
       "      <td>31</td>\n",
       "      <td>0</td>\n",
       "    </tr>\n",
       "    <tr>\n",
       "      <th>2</th>\n",
       "      <td>8</td>\n",
       "      <td>183</td>\n",
       "      <td>64</td>\n",
       "      <td>0</td>\n",
       "      <td>0</td>\n",
       "      <td>23.3</td>\n",
       "      <td>0.672</td>\n",
       "      <td>32</td>\n",
       "      <td>1</td>\n",
       "    </tr>\n",
       "    <tr>\n",
       "      <th>3</th>\n",
       "      <td>1</td>\n",
       "      <td>89</td>\n",
       "      <td>66</td>\n",
       "      <td>23</td>\n",
       "      <td>94</td>\n",
       "      <td>28.1</td>\n",
       "      <td>0.167</td>\n",
       "      <td>21</td>\n",
       "      <td>0</td>\n",
       "    </tr>\n",
       "    <tr>\n",
       "      <th>4</th>\n",
       "      <td>0</td>\n",
       "      <td>137</td>\n",
       "      <td>40</td>\n",
       "      <td>35</td>\n",
       "      <td>168</td>\n",
       "      <td>43.1</td>\n",
       "      <td>2.288</td>\n",
       "      <td>33</td>\n",
       "      <td>1</td>\n",
       "    </tr>\n",
       "  </tbody>\n",
       "</table>\n",
       "</div>"
      ],
      "text/plain": [
       "   Pregnancies  Glucose  BloodPressure  SkinThickness  Insulin   BMI  \\\n",
       "0            6      148             72             35        0  33.6   \n",
       "1            1       85             66             29        0  26.6   \n",
       "2            8      183             64              0        0  23.3   \n",
       "3            1       89             66             23       94  28.1   \n",
       "4            0      137             40             35      168  43.1   \n",
       "\n",
       "   DiabetesPedigreeFunction  Age  Outcome  \n",
       "0                     0.627   50        1  \n",
       "1                     0.351   31        0  \n",
       "2                     0.672   32        1  \n",
       "3                     0.167   21        0  \n",
       "4                     2.288   33        1  "
      ]
     },
     "execution_count": 38,
     "metadata": {},
     "output_type": "execute_result"
    }
   ],
   "source": [
    "data.head()"
   ]
  },
  {
   "cell_type": "code",
   "execution_count": 39,
   "metadata": {},
   "outputs": [
    {
     "data": {
      "text/plain": [
       "(Index(['Pregnancies', 'Glucose', 'BloodPressure', 'SkinThickness', 'Insulin',\n",
       "        'BMI', 'DiabetesPedigreeFunction', 'Age', 'Outcome'],\n",
       "       dtype='object'), (768, 9))"
      ]
     },
     "execution_count": 39,
     "metadata": {},
     "output_type": "execute_result"
    }
   ],
   "source": [
    "data.columns,data.shape"
   ]
  },
  {
   "cell_type": "code",
   "execution_count": 40,
   "metadata": {},
   "outputs": [],
   "source": [
    "dr=data.corr()"
   ]
  },
  {
   "cell_type": "code",
   "execution_count": 41,
   "metadata": {},
   "outputs": [
    {
     "data": {
      "text/plain": [
       "<matplotlib.axes._subplots.AxesSubplot at 0x248e8307b8>"
      ]
     },
     "execution_count": 41,
     "metadata": {},
     "output_type": "execute_result"
    },
    {
     "data": {
      "image/png": "[encoded data removed]",
      "text/plain": [
       "<Figure size 1440x720 with 2 Axes>"
      ]
     },
     "metadata": {
      "needs_background": "light"
     },
     "output_type": "display_data"
    }
   ],
   "source": [
    "import seaborn as sns\n",
    "import numpy as np\n",
    "import matplotlib.pyplot as plt\n",
    "%matplotlib inline\n",
    "mask=np.array(dr)\n",
    "mask[np.tril_indices_from(mask)]=False\n",
    "fig,ax= plt.subplots()\n",
    "fig.set_size_inches(20,10)\n",
    "sns.heatmap(dr,mask=mask,annot=True)"
   ]
  },
  {
   "cell_type": "code",
   "execution_count": 42,
   "metadata": {},
   "outputs": [
    {
     "data": {
      "text/plain": [
       "<matplotlib.axes._subplots.AxesSubplot at 0x24903896a0>"
      ]
     },
     "execution_count": 42,
     "metadata": {},
     "output_type": "execute_result"
    },
    {
     "data": {
      "image/png": "[encoded data removed]",
      "text/plain": [
       "<Figure size 432x288 with 1 Axes>"
      ]
     },
     "metadata": {
      "needs_background": "light"
     },
     "output_type": "display_data"
    }
   ],
   "source": [
    "data['Outcome'].value_counts().plot.bar()"
   ]
  },
  {
   "cell_type": "code",
   "execution_count": 54,
   "metadata": {},
   "outputs": [],
   "source": [
    "import warnings\n",
    "warnings.filterwarnings('ignore')"
   ]
  },
  {
   "cell_type": "code",
   "execution_count": 44,
   "metadata": {},
   "outputs": [],
   "source": [
    "##from sklearn.preprocessing import MinMaxScaler\n",
    "##scaler=MinMaxScaler(feature_range=(0, 1))\n",
    "##data=scaler.fit_transform(data)"
   ]
  },
  {
   "cell_type": "markdown",
   "metadata": {},
   "source": [
    "### A. considering 3 independent and 1 dependent variables and performing model using stochastic gradient algorithm with epochs=100"
   ]
  },
  {
   "cell_type": "code",
   "execution_count": 45,
   "metadata": {},
   "outputs": [],
   "source": [
    "X=['Pregnancies','Glucose','BloodPressure']"
   ]
  },
  {
   "cell_type": "code",
   "execution_count": 46,
   "metadata": {},
   "outputs": [],
   "source": [
    "x=data[X].values"
   ]
  },
  {
   "cell_type": "code",
   "execution_count": 47,
   "metadata": {},
   "outputs": [],
   "source": [
    "Y=data['Outcome']"
   ]
  },
  {
   "cell_type": "code",
   "execution_count": 50,
   "metadata": {},
   "outputs": [],
   "source": [
    "from sklearn.model_selection import train_test_split\n",
    "x_train,x_test,y_train,y_test=train_test_split(x,Y,test_size=0.2,random_state=0)"
   ]
  },
  {
   "cell_type": "code",
   "execution_count": 51,
   "metadata": {},
   "outputs": [
    {
     "data": {
      "text/plain": [
       "((614, 3), (614,), (154, 3), (154,))"
      ]
     },
     "execution_count": 51,
     "metadata": {},
     "output_type": "execute_result"
    }
   ],
   "source": [
    "x_train.shape,y_train.shape,x_test.shape,y_test.shape"
   ]
  },
  {
   "cell_type": "code",
   "execution_count": 52,
   "metadata": {},
   "outputs": [
    {
     "data": {
      "text/plain": [
       "3"
      ]
     },
     "execution_count": 52,
     "metadata": {},
     "output_type": "execute_result"
    }
   ],
   "source": [
    "x_train.shape[1]"
   ]
  },
  {
   "cell_type": "code",
   "execution_count": 55,
   "metadata": {},
   "outputs": [],
   "source": [
    "model=tfk.models.Sequential()\n",
    "model.add(tfk.layers.Dense(8,activation=tfk.activations.relu,input_dim=x_train.shape[1]))\n",
    "model.add(tfk.layers.Dense(1,activation=tfk.activations.sigmoid))\n",
    "model.compile(loss=tfk.losses.binary_crossentropy,optimizer=tfk.optimizers.SGD() ,metrics=['acc'])"
   ]
  },
  {
   "cell_type": "code",
   "execution_count": 56,
   "metadata": {},
   "outputs": [
    {
     "name": "stdout",
     "output_type": "stream",
     "text": [
      "_________________________________________________________________\n",
      "Layer (type)                 Output Shape              Param #   \n",
      "=================================================================\n",
      "dense_2 (Dense)              (None, 8)                 32        \n",
      "_________________________________________________________________\n",
      "dense_3 (Dense)              (None, 1)                 9         \n",
      "=================================================================\n",
      "Total params: 41\n",
      "Trainable params: 41\n",
      "Non-trainable params: 0\n",
      "_________________________________________________________________\n"
     ]
    }
   ],
   "source": [
    "model.summary()"
   ]
  },
  {
   "cell_type": "code",
   "execution_count": 80,
   "metadata": {},
   "outputs": [],
   "source": [
    "###y_train=tfk.utils.to_categorical(y_train)\n",
    "y=[5,7,9,11,13]\n",
    "x=[1,2,3,4,5]\n",
    "\n"
   ]
  },
  {
   "cell_type": "code",
   "execution_count": 57,
   "metadata": {},
   "outputs": [
    {
     "name": "stdout",
     "output_type": "stream",
     "text": [
      "WARNING:tensorflow:From C:\\Users\\Srinivas\\Anaconda3\\lib\\site-packages\\tensorflow\\python\\ops\\math_ops.py:3066: to_int32 (from tensorflow.python.ops.math_ops) is deprecated and will be removed in a future version.\n",
      "Instructions for updating:\n",
      "Use tf.cast instead.\n",
      "Epoch 1/100\n",
      "614/614 [==============================] - 2s 3ms/sample - loss: 5.8021 - acc: 0.6384\n",
      "Epoch 2/100\n",
      "614/614 [==============================] - 0s 430us/sample - loss: 5.8009 - acc: 0.6401\n",
      "Epoch 3/100\n",
      "614/614 [==============================] - 0s 416us/sample - loss: 5.8009 - acc: 0.6401\n",
      "Epoch 4/100\n",
      "614/614 [==============================] - 0s 416us/sample - loss: 5.8009 - acc: 0.6401\n",
      "Epoch 5/100\n",
      "614/614 [==============================] - 0s 464us/sample - loss: 5.8009 - acc: 0.6401\n",
      "Epoch 6/100\n",
      "614/614 [==============================] - 0s 458us/sample - loss: 5.8009 - acc: 0.6401\n",
      "Epoch 7/100\n",
      "614/614 [==============================] - 0s 450us/sample - loss: 5.8009 - acc: 0.6401\n",
      "Epoch 8/100\n",
      "614/614 [==============================] - 0s 396us/sample - loss: 5.8009 - acc: 0.6401\n",
      "Epoch 9/100\n",
      "614/614 [==============================] - 0s 360us/sample - loss: 5.8009 - acc: 0.6401\n",
      "Epoch 10/100\n",
      "614/614 [==============================] - 0s 341us/sample - loss: 5.8009 - acc: 0.6401\n",
      "Epoch 11/100\n",
      "614/614 [==============================] - 0s 282us/sample - loss: 5.8009 - acc: 0.6401\n",
      "Epoch 12/100\n",
      "614/614 [==============================] - 0s 282us/sample - loss: 5.8009 - acc: 0.6401\n",
      "Epoch 13/100\n",
      "614/614 [==============================] - 0s 284us/sample - loss: 5.8009 - acc: 0.6401\n",
      "Epoch 14/100\n",
      "614/614 [==============================] - 0s 264us/sample - loss: 5.8009 - acc: 0.6401\n",
      "Epoch 15/100\n",
      "614/614 [==============================] - 0s 243us/sample - loss: 5.8009 - acc: 0.6401\n",
      "Epoch 16/100\n",
      "614/614 [==============================] - 0s 241us/sample - loss: 5.8009 - acc: 0.6401\n",
      "Epoch 17/100\n",
      "614/614 [==============================] - 0s 233us/sample - loss: 5.8009 - acc: 0.6401\n",
      "Epoch 18/100\n",
      "614/614 [==============================] - 0s 222us/sample - loss: 5.8009 - acc: 0.6401\n",
      "Epoch 19/100\n",
      "614/614 [==============================] - 0s 217us/sample - loss: 5.8009 - acc: 0.6401\n",
      "Epoch 20/100\n",
      "614/614 [==============================] - 0s 200us/sample - loss: 5.8009 - acc: 0.6401\n",
      "Epoch 21/100\n",
      "614/614 [==============================] - 0s 214us/sample - loss: 5.8009 - acc: 0.6401\n",
      "Epoch 22/100\n",
      "614/614 [==============================] - 0s 207us/sample - loss: 5.8009 - acc: 0.6401\n",
      "Epoch 23/100\n",
      "614/614 [==============================] - 0s 205us/sample - loss: 5.8009 - acc: 0.6401\n",
      "Epoch 24/100\n",
      "614/614 [==============================] - 0s 197us/sample - loss: 5.8009 - acc: 0.6401\n",
      "Epoch 25/100\n",
      "614/614 [==============================] - 0s 178us/sample - loss: 5.8009 - acc: 0.6401\n",
      "Epoch 26/100\n",
      "614/614 [==============================] - 0s 161us/sample - loss: 5.8009 - acc: 0.6401\n",
      "Epoch 27/100\n",
      "614/614 [==============================] - 0s 183us/sample - loss: 5.8009 - acc: 0.6401\n",
      "Epoch 28/100\n",
      "614/614 [==============================] - 0s 179us/sample - loss: 5.8009 - acc: 0.6401\n",
      "Epoch 29/100\n",
      "614/614 [==============================] - 0s 178us/sample - loss: 5.8009 - acc: 0.6401\n",
      "Epoch 30/100\n",
      "614/614 [==============================] - 0s 187us/sample - loss: 5.8009 - acc: 0.6401\n",
      "Epoch 31/100\n",
      "614/614 [==============================] - 0s 186us/sample - loss: 5.8009 - acc: 0.6401\n",
      "Epoch 32/100\n",
      "614/614 [==============================] - 0s 181us/sample - loss: 5.8009 - acc: 0.6401\n",
      "Epoch 33/100\n",
      "614/614 [==============================] - 0s 168us/sample - loss: 5.8009 - acc: 0.6401\n",
      "Epoch 34/100\n",
      "614/614 [==============================] - 0s 160us/sample - loss: 5.8009 - acc: 0.6401\n",
      "Epoch 35/100\n",
      "614/614 [==============================] - 0s 178us/sample - loss: 5.8009 - acc: 0.6401\n",
      "Epoch 36/100\n",
      "614/614 [==============================] - 0s 187us/sample - loss: 5.8009 - acc: 0.6401\n",
      "Epoch 37/100\n",
      "614/614 [==============================] - 0s 181us/sample - loss: 5.8009 - acc: 0.6401s - loss: 5.8551 - acc: 0.63\n",
      "Epoch 38/100\n",
      "614/614 [==============================] - 0s 163us/sample - loss: 5.8009 - acc: 0.6401\n",
      "Epoch 39/100\n",
      "614/614 [==============================] - 0s 161us/sample - loss: 5.8009 - acc: 0.6401\n",
      "Epoch 40/100\n",
      "614/614 [==============================] - 0s 155us/sample - loss: 5.8009 - acc: 0.6401\n",
      "Epoch 41/100\n",
      "614/614 [==============================] - 0s 165us/sample - loss: 5.8009 - acc: 0.6401\n",
      "Epoch 42/100\n",
      "614/614 [==============================] - 0s 161us/sample - loss: 5.8009 - acc: 0.6401\n",
      "Epoch 43/100\n",
      "614/614 [==============================] - 0s 153us/sample - loss: 5.8009 - acc: 0.6401\n",
      "Epoch 44/100\n",
      "614/614 [==============================] - 0s 150us/sample - loss: 5.8009 - acc: 0.6401\n",
      "Epoch 45/100\n",
      "614/614 [==============================] - 0s 156us/sample - loss: 5.8009 - acc: 0.6401\n",
      "Epoch 46/100\n",
      "614/614 [==============================] - 0s 158us/sample - loss: 5.8009 - acc: 0.6401\n",
      "Epoch 47/100\n",
      "614/614 [==============================] - 0s 155us/sample - loss: 5.8009 - acc: 0.6401\n",
      "Epoch 48/100\n",
      "614/614 [==============================] - 0s 155us/sample - loss: 5.8009 - acc: 0.6401\n",
      "Epoch 49/100\n",
      "614/614 [==============================] - 0s 155us/sample - loss: 5.8009 - acc: 0.6401\n",
      "Epoch 50/100\n",
      "614/614 [==============================] - 0s 148us/sample - loss: 5.8009 - acc: 0.6401\n",
      "Epoch 51/100\n",
      "614/614 [==============================] - 0s 143us/sample - loss: 5.8009 - acc: 0.6401\n",
      "Epoch 52/100\n",
      "614/614 [==============================] - 0s 139us/sample - loss: 5.8009 - acc: 0.6401\n",
      "Epoch 53/100\n",
      "614/614 [==============================] - 0s 135us/sample - loss: 5.8009 - acc: 0.6401\n",
      "Epoch 54/100\n",
      "614/614 [==============================] - 0s 140us/sample - loss: 5.8009 - acc: 0.6401\n",
      "Epoch 55/100\n",
      "614/614 [==============================] - 0s 150us/sample - loss: 5.8009 - acc: 0.6401\n",
      "Epoch 56/100\n",
      "614/614 [==============================] - 0s 140us/sample - loss: 5.8009 - acc: 0.6401\n",
      "Epoch 57/100\n",
      "614/614 [==============================] - 0s 140us/sample - loss: 5.8009 - acc: 0.6401\n",
      "Epoch 58/100\n",
      "614/614 [==============================] - 0s 125us/sample - loss: 5.8009 - acc: 0.6401\n",
      "Epoch 59/100\n",
      "614/614 [==============================] - 0s 125us/sample - loss: 5.8009 - acc: 0.6401\n",
      "Epoch 60/100\n",
      "614/614 [==============================] - 0s 129us/sample - loss: 5.8009 - acc: 0.6401\n",
      "Epoch 61/100\n",
      "614/614 [==============================] - 0s 122us/sample - loss: 5.8009 - acc: 0.6401\n",
      "Epoch 62/100\n",
      "614/614 [==============================] - 0s 125us/sample - loss: 5.8009 - acc: 0.6401\n",
      "Epoch 63/100\n",
      "614/614 [==============================] - 0s 125us/sample - loss: 5.8009 - acc: 0.6401\n",
      "Epoch 64/100\n",
      "614/614 [==============================] - 0s 124us/sample - loss: 5.8009 - acc: 0.6401\n",
      "Epoch 65/100\n",
      "614/614 [==============================] - 0s 122us/sample - loss: 5.8009 - acc: 0.6401\n",
      "Epoch 66/100\n",
      "614/614 [==============================] - 0s 132us/sample - loss: 5.8009 - acc: 0.6401\n",
      "Epoch 67/100\n",
      "614/614 [==============================] - 0s 143us/sample - loss: 5.8009 - acc: 0.6401\n",
      "Epoch 68/100\n",
      "614/614 [==============================] - 0s 137us/sample - loss: 5.8009 - acc: 0.6401\n",
      "Epoch 69/100\n",
      "614/614 [==============================] - 0s 137us/sample - loss: 5.8009 - acc: 0.6401\n",
      "Epoch 70/100\n",
      "614/614 [==============================] - 0s 122us/sample - loss: 5.8009 - acc: 0.6401\n",
      "Epoch 71/100\n",
      "614/614 [==============================] - 0s 124us/sample - loss: 5.8009 - acc: 0.6401\n",
      "Epoch 72/100\n",
      "614/614 [==============================] - 0s 124us/sample - loss: 5.8009 - acc: 0.6401\n",
      "Epoch 73/100\n",
      "614/614 [==============================] - 0s 137us/sample - loss: 5.8009 - acc: 0.6401\n",
      "Epoch 74/100\n",
      "614/614 [==============================] - 0s 127us/sample - loss: 5.8009 - acc: 0.6401\n",
      "Epoch 75/100\n",
      "614/614 [==============================] - 0s 129us/sample - loss: 5.8009 - acc: 0.6401\n",
      "Epoch 76/100\n",
      "614/614 [==============================] - 0s 132us/sample - loss: 5.8009 - acc: 0.6401\n",
      "Epoch 77/100\n",
      "614/614 [==============================] - 0s 137us/sample - loss: 5.8009 - acc: 0.6401\n",
      "Epoch 78/100\n",
      "614/614 [==============================] - 0s 124us/sample - loss: 5.8009 - acc: 0.6401\n",
      "Epoch 79/100\n",
      "614/614 [==============================] - 0s 139us/sample - loss: 5.8009 - acc: 0.6401\n",
      "Epoch 80/100\n",
      "614/614 [==============================] - 0s 139us/sample - loss: 5.8009 - acc: 0.6401\n",
      "Epoch 81/100\n",
      "614/614 [==============================] - 0s 119us/sample - loss: 5.8009 - acc: 0.6401\n",
      "Epoch 82/100\n",
      "614/614 [==============================] - 0s 122us/sample - loss: 5.8009 - acc: 0.6401\n",
      "Epoch 83/100\n",
      "614/614 [==============================] - 0s 125us/sample - loss: 5.8009 - acc: 0.6401\n",
      "Epoch 84/100\n",
      "614/614 [==============================] - 0s 125us/sample - loss: 5.8009 - acc: 0.6401\n",
      "Epoch 85/100\n",
      "614/614 [==============================] - 0s 121us/sample - loss: 5.8009 - acc: 0.6401\n",
      "Epoch 86/100\n",
      "614/614 [==============================] - 0s 132us/sample - loss: 5.8009 - acc: 0.6401\n",
      "Epoch 87/100\n",
      "614/614 [==============================] - 0s 127us/sample - loss: 5.8009 - acc: 0.6401\n",
      "Epoch 88/100\n",
      "614/614 [==============================] - 0s 130us/sample - loss: 5.8009 - acc: 0.6401\n",
      "Epoch 89/100\n",
      "614/614 [==============================] - 0s 124us/sample - loss: 5.8009 - acc: 0.6401\n",
      "Epoch 90/100\n",
      "614/614 [==============================] - 0s 124us/sample - loss: 5.8009 - acc: 0.6401\n",
      "Epoch 91/100\n",
      "614/614 [==============================] - 0s 129us/sample - loss: 5.8009 - acc: 0.6401\n",
      "Epoch 92/100\n",
      "614/614 [==============================] - 0s 135us/sample - loss: 5.8009 - acc: 0.6401\n",
      "Epoch 93/100\n",
      "614/614 [==============================] - 0s 129us/sample - loss: 5.8009 - acc: 0.6401\n",
      "Epoch 94/100\n",
      "614/614 [==============================] - 0s 129us/sample - loss: 5.8009 - acc: 0.6401\n",
      "Epoch 95/100\n",
      "614/614 [==============================] - 0s 127us/sample - loss: 5.8009 - acc: 0.6401\n",
      "Epoch 96/100\n",
      "614/614 [==============================] - 0s 130us/sample - loss: 5.8009 - acc: 0.6401\n",
      "Epoch 97/100\n",
      "614/614 [==============================] - 0s 135us/sample - loss: 5.8009 - acc: 0.6401\n",
      "Epoch 98/100\n",
      "614/614 [==============================] - 0s 125us/sample - loss: 5.8009 - acc: 0.6401\n",
      "Epoch 99/100\n",
      "614/614 [==============================] - 0s 129us/sample - loss: 5.8009 - acc: 0.6401\n",
      "Epoch 100/100\n",
      "614/614 [==============================] - 0s 126us/sample - loss: 5.8009 - acc: 0.6401\n"
     ]
    },
    {
     "data": {
      "text/plain": [
       "<tensorflow.python.keras.callbacks.History at 0x249099bda0>"
      ]
     },
     "execution_count": 57,
     "metadata": {},
     "output_type": "execute_result"
    }
   ],
   "source": [
    "model.fit(x_train ,y_train,epochs=100,batch_size=10)"
   ]
  },
  {
   "cell_type": "markdown",
   "metadata": {},
   "source": [
    "## B. considering 1 dependent variable and remaining all as independent variables and performing model using adam optimizer "
   ]
  },
  {
   "cell_type": "code",
   "execution_count": 58,
   "metadata": {},
   "outputs": [],
   "source": [
    "X1=data.iloc[:,:-1]"
   ]
  },
  {
   "cell_type": "code",
   "execution_count": 59,
   "metadata": {},
   "outputs": [],
   "source": [
    "Y1=data['Outcome']"
   ]
  },
  {
   "cell_type": "code",
   "execution_count": 60,
   "metadata": {},
   "outputs": [],
   "source": [
    "x1_train,x1_test,y1_train,y1_test=train_test_split(X1,Y1,test_size=0.2)"
   ]
  },
  {
   "cell_type": "code",
   "execution_count": 61,
   "metadata": {},
   "outputs": [
    {
     "data": {
      "text/plain": [
       "((614, 8), (154, 8), (614,), (154,))"
      ]
     },
     "execution_count": 61,
     "metadata": {},
     "output_type": "execute_result"
    }
   ],
   "source": [
    "x1_train.shape,x1_test.shape,y1_train.shape,y1_test.shape"
   ]
  },
  {
   "cell_type": "code",
   "execution_count": 62,
   "metadata": {},
   "outputs": [],
   "source": [
    "model=tfk.models.Sequential()\n",
    "model.add(tfk.layers.Dense(16,activation=tfk.activations.relu,input_dim=x1_train.shape[1]))\n",
    "model.add(tfk.layers.Dense(16,activation=tfk.activations.relu))\n",
    "model.add(tfk.layers.Dense(16,activation=tfk.activations.relu))\n",
    "model.add(tfk.layers.Dense(1,activation=tfk.activations.sigmoid))\n",
    "model.compile(loss=tfk.losses.binary_crossentropy,optimizer=tfk.optimizers.Adam()  ,metrics=['acc'])"
   ]
  },
  {
   "cell_type": "code",
   "execution_count": 63,
   "metadata": {},
   "outputs": [
    {
     "name": "stdout",
     "output_type": "stream",
     "text": [
      "Epoch 1/150\n",
      "614/614 [==============================] - 1s 2ms/sample - loss: 1.0409 - acc: 0.6091\n",
      "Epoch 2/150\n",
      "614/614 [==============================] - 0s 530us/sample - loss: 0.7060 - acc: 0.6629\n",
      "Epoch 3/150\n",
      "614/614 [==============================] - 0s 575us/sample - loss: 0.6926 - acc: 0.6482\n",
      "Epoch 4/150\n",
      "614/614 [==============================] - 0s 561us/sample - loss: 0.6555 - acc: 0.6694\n",
      "Epoch 5/150\n",
      "614/614 [==============================] - 0s 562us/sample - loss: 0.6238 - acc: 0.6808\n",
      "Epoch 6/150\n",
      "614/614 [==============================] - 0s 416us/sample - loss: 0.6456 - acc: 0.6661\n",
      "Epoch 7/150\n",
      "614/614 [==============================] - 0s 406us/sample - loss: 0.6184 - acc: 0.6824\n",
      "Epoch 8/150\n",
      "614/614 [==============================] - 0s 403us/sample - loss: 0.5882 - acc: 0.6954\n",
      "Epoch 9/150\n",
      "614/614 [==============================] - 0s 409us/sample - loss: 0.6206 - acc: 0.6987\n",
      "Epoch 10/150\n",
      "614/614 [==============================] - 0s 411us/sample - loss: 0.6089 - acc: 0.6971\n",
      "Epoch 11/150\n",
      "614/614 [==============================] - 0s 419us/sample - loss: 0.5801 - acc: 0.7036\n",
      "Epoch 12/150\n",
      "614/614 [==============================] - 0s 401us/sample - loss: 0.5841 - acc: 0.7052\n",
      "Epoch 13/150\n",
      "614/614 [==============================] - 0s 411us/sample - loss: 0.5908 - acc: 0.7003\n",
      "Epoch 14/150\n",
      "614/614 [==============================] - 0s 401us/sample - loss: 0.5845 - acc: 0.6889\n",
      "Epoch 15/150\n",
      "614/614 [==============================] - 0s 407us/sample - loss: 0.5707 - acc: 0.7166\n",
      "Epoch 16/150\n",
      "614/614 [==============================] - 0s 443us/sample - loss: 0.5756 - acc: 0.7020\n",
      "Epoch 17/150\n",
      "614/614 [==============================] - 0s 420us/sample - loss: 0.5702 - acc: 0.7231\n",
      "Epoch 18/150\n",
      "614/614 [==============================] - 0s 425us/sample - loss: 0.5692 - acc: 0.7215\n",
      "Epoch 19/150\n",
      "614/614 [==============================] - 0s 414us/sample - loss: 0.5686 - acc: 0.7248\n",
      "Epoch 20/150\n",
      "614/614 [==============================] - 0s 403us/sample - loss: 0.5867 - acc: 0.6922\n",
      "Epoch 21/150\n",
      "614/614 [==============================] - 0s 419us/sample - loss: 0.5499 - acc: 0.7313\n",
      "Epoch 22/150\n",
      "614/614 [==============================] - 0s 419us/sample - loss: 0.5653 - acc: 0.7150\n",
      "Epoch 23/150\n",
      "614/614 [==============================] - 0s 406us/sample - loss: 0.5482 - acc: 0.7280\n",
      "Epoch 24/150\n",
      "614/614 [==============================] - 0s 409us/sample - loss: 0.5590 - acc: 0.7182\n",
      "Epoch 25/150\n",
      "614/614 [==============================] - 0s 407us/sample - loss: 0.5496 - acc: 0.7329\n",
      "Epoch 26/150\n",
      "614/614 [==============================] - 0s 407us/sample - loss: 0.5452 - acc: 0.7134\n",
      "Epoch 27/150\n",
      "614/614 [==============================] - 0s 409us/sample - loss: 0.5583 - acc: 0.7280\n",
      "Epoch 28/150\n",
      "614/614 [==============================] - 0s 399us/sample - loss: 0.5527 - acc: 0.7215\n",
      "Epoch 29/150\n",
      "614/614 [==============================] - 0s 394us/sample - loss: 0.5555 - acc: 0.7150\n",
      "Epoch 30/150\n",
      "614/614 [==============================] - 0s 406us/sample - loss: 0.5589 - acc: 0.7248\n",
      "Epoch 31/150\n",
      "614/614 [==============================] - 0s 398us/sample - loss: 0.5366 - acc: 0.7459\n",
      "Epoch 32/150\n",
      "614/614 [==============================] - 0s 391us/sample - loss: 0.5497 - acc: 0.7329\n",
      "Epoch 33/150\n",
      "614/614 [==============================] - ETA: 0s - loss: 0.5538 - acc: 0.740 - 0s 391us/sample - loss: 0.5612 - acc: 0.7362\n",
      "Epoch 34/150\n",
      "614/614 [==============================] - 0s 394us/sample - loss: 0.5351 - acc: 0.7313\n",
      "Epoch 35/150\n",
      "614/614 [==============================] - 0s 394us/sample - loss: 0.5386 - acc: 0.7296\n",
      "Epoch 36/150\n",
      "614/614 [==============================] - 0s 407us/sample - loss: 0.5736 - acc: 0.6987\n",
      "Epoch 37/150\n",
      "614/614 [==============================] - 0s 311us/sample - loss: 0.5385 - acc: 0.7329\n",
      "Epoch 38/150\n",
      "614/614 [==============================] - 0s 315us/sample - loss: 0.5468 - acc: 0.7313\n",
      "Epoch 39/150\n",
      "614/614 [==============================] - 0s 310us/sample - loss: 0.5433 - acc: 0.7410\n",
      "Epoch 40/150\n",
      "614/614 [==============================] - 0s 302us/sample - loss: 0.5337 - acc: 0.7280\n",
      "Epoch 41/150\n",
      "614/614 [==============================] - 0s 308us/sample - loss: 0.5299 - acc: 0.7492\n",
      "Epoch 42/150\n",
      "614/614 [==============================] - 0s 298us/sample - loss: 0.5218 - acc: 0.7622\n",
      "Epoch 43/150\n",
      "614/614 [==============================] - 0s 311us/sample - loss: 0.5220 - acc: 0.7362\n",
      "Epoch 44/150\n",
      "614/614 [==============================] - 0s 305us/sample - loss: 0.5156 - acc: 0.7573\n",
      "Epoch 45/150\n",
      "614/614 [==============================] - 0s 303us/sample - loss: 0.5212 - acc: 0.7557\n",
      "Epoch 46/150\n",
      "614/614 [==============================] - 0s 319us/sample - loss: 0.5087 - acc: 0.7590\n",
      "Epoch 47/150\n",
      "614/614 [==============================] - 0s 292us/sample - loss: 0.5232 - acc: 0.7508\n",
      "Epoch 48/150\n",
      "614/614 [==============================] - 0s 295us/sample - loss: 0.5249 - acc: 0.7362\n",
      "Epoch 49/150\n",
      "614/614 [==============================] - 0s 290us/sample - loss: 0.5265 - acc: 0.7296\n",
      "Epoch 50/150\n",
      "614/614 [==============================] - 0s 306us/sample - loss: 0.5315 - acc: 0.7362\n",
      "Epoch 51/150\n",
      "614/614 [==============================] - 0s 300us/sample - loss: 0.5219 - acc: 0.7590\n",
      "Epoch 52/150\n",
      "614/614 [==============================] - 0s 302us/sample - loss: 0.5087 - acc: 0.7720\n",
      "Epoch 53/150\n",
      "614/614 [==============================] - 0s 311us/sample - loss: 0.5166 - acc: 0.7541\n",
      "Epoch 54/150\n",
      "614/614 [==============================] - 0s 287us/sample - loss: 0.5091 - acc: 0.7606\n",
      "Epoch 55/150\n",
      "614/614 [==============================] - 0s 292us/sample - loss: 0.5327 - acc: 0.7427\n",
      "Epoch 56/150\n",
      "614/614 [==============================] - 0s 306us/sample - loss: 0.5174 - acc: 0.7541\n",
      "Epoch 57/150\n",
      "614/614 [==============================] - 0s 310us/sample - loss: 0.5063 - acc: 0.7573\n",
      "Epoch 58/150\n",
      "614/614 [==============================] - 0s 318us/sample - loss: 0.5325 - acc: 0.7329\n",
      "Epoch 59/150\n",
      "614/614 [==============================] - 0s 310us/sample - loss: 0.5124 - acc: 0.7492\n",
      "Epoch 60/150\n",
      "614/614 [==============================] - 0s 315us/sample - loss: 0.5018 - acc: 0.7524\n",
      "Epoch 61/150\n",
      "614/614 [==============================] - 0s 329us/sample - loss: 0.4993 - acc: 0.7573\n",
      "Epoch 62/150\n",
      "614/614 [==============================] - 0s 373us/sample - loss: 0.5212 - acc: 0.7443\n",
      "Epoch 63/150\n",
      "614/614 [==============================] - 0s 300us/sample - loss: 0.4992 - acc: 0.7622\n",
      "Epoch 64/150\n",
      "614/614 [==============================] - 0s 293us/sample - loss: 0.5050 - acc: 0.7622\n",
      "Epoch 65/150\n",
      "614/614 [==============================] - 0s 295us/sample - loss: 0.5249 - acc: 0.7541\n",
      "Epoch 66/150\n",
      "614/614 [==============================] - 0s 269us/sample - loss: 0.5387 - acc: 0.7215\n",
      "Epoch 67/150\n",
      "614/614 [==============================] - 0s 292us/sample - loss: 0.5250 - acc: 0.7362\n",
      "Epoch 68/150\n",
      "614/614 [==============================] - 0s 282us/sample - loss: 0.4985 - acc: 0.7508\n",
      "Epoch 69/150\n",
      "614/614 [==============================] - 0s 274us/sample - loss: 0.5031 - acc: 0.7655\n",
      "Epoch 70/150\n",
      "614/614 [==============================] - 0s 280us/sample - loss: 0.5002 - acc: 0.7557\n",
      "Epoch 71/150\n",
      "614/614 [==============================] - 0s 272us/sample - loss: 0.4943 - acc: 0.7541\n",
      "Epoch 72/150\n",
      "614/614 [==============================] - 0s 279us/sample - loss: 0.5027 - acc: 0.7524\n",
      "Epoch 73/150\n",
      "614/614 [==============================] - 0s 346us/sample - loss: 0.4822 - acc: 0.7590\n",
      "Epoch 74/150\n",
      "614/614 [==============================] - 0s 256us/sample - loss: 0.4802 - acc: 0.7720\n",
      "Epoch 75/150\n",
      "614/614 [==============================] - 0s 248us/sample - loss: 0.4845 - acc: 0.7655\n",
      "Epoch 76/150\n",
      "614/614 [==============================] - 0s 251us/sample - loss: 0.4748 - acc: 0.7704\n",
      "Epoch 77/150\n",
      "614/614 [==============================] - 0s 248us/sample - loss: 0.4829 - acc: 0.7752\n",
      "Epoch 78/150\n",
      "614/614 [==============================] - 0s 223us/sample - loss: 0.4746 - acc: 0.7638\n",
      "Epoch 79/150\n",
      "614/614 [==============================] - 0s 235us/sample - loss: 0.4761 - acc: 0.7801\n",
      "Epoch 80/150\n",
      "614/614 [==============================] - 0s 240us/sample - loss: 0.4804 - acc: 0.7622\n",
      "Epoch 81/150\n",
      "614/614 [==============================] - 0s 230us/sample - loss: 0.4747 - acc: 0.7720\n",
      "Epoch 82/150\n",
      "614/614 [==============================] - 0s 225us/sample - loss: 0.4756 - acc: 0.7785\n",
      "Epoch 83/150\n",
      "614/614 [==============================] - 0s 197us/sample - loss: 0.4718 - acc: 0.7687\n",
      "Epoch 84/150\n",
      "614/614 [==============================] - 0s 215us/sample - loss: 0.4819 - acc: 0.7736\n",
      "Epoch 85/150\n",
      "614/614 [==============================] - 0s 269us/sample - loss: 0.4783 - acc: 0.7704\n",
      "Epoch 86/150\n",
      "614/614 [==============================] - 0s 212us/sample - loss: 0.4644 - acc: 0.7899\n",
      "Epoch 87/150\n",
      "614/614 [==============================] - 0s 217us/sample - loss: 0.4886 - acc: 0.7818\n",
      "Epoch 88/150\n",
      "614/614 [==============================] - 0s 215us/sample - loss: 0.4865 - acc: 0.7638\n",
      "Epoch 89/150\n",
      "614/614 [==============================] - 0s 191us/sample - loss: 0.4821 - acc: 0.7883\n",
      "Epoch 90/150\n",
      "614/614 [==============================] - 0s 184us/sample - loss: 0.4766 - acc: 0.7687\n",
      "Epoch 91/150\n",
      "614/614 [==============================] - 0s 191us/sample - loss: 0.4628 - acc: 0.7785\n",
      "Epoch 92/150\n",
      "614/614 [==============================] - 0s 183us/sample - loss: 0.4617 - acc: 0.7801\n",
      "Epoch 93/150\n",
      "614/614 [==============================] - 0s 187us/sample - loss: 0.4538 - acc: 0.7818\n",
      "Epoch 94/150\n",
      "614/614 [==============================] - 0s 179us/sample - loss: 0.4587 - acc: 0.7655\n",
      "Epoch 95/150\n",
      "614/614 [==============================] - 0s 191us/sample - loss: 0.4883 - acc: 0.7638\n",
      "Epoch 96/150\n",
      "614/614 [==============================] - 0s 189us/sample - loss: 0.4755 - acc: 0.7590\n",
      "Epoch 97/150\n",
      "614/614 [==============================] - 0s 192us/sample - loss: 0.4645 - acc: 0.7752\n",
      "Epoch 98/150\n",
      "614/614 [==============================] - 0s 179us/sample - loss: 0.4707 - acc: 0.7752\n",
      "Epoch 99/150\n",
      "614/614 [==============================] - 0s 170us/sample - loss: 0.4642 - acc: 0.7704\n",
      "Epoch 100/150\n",
      "614/614 [==============================] - 0s 166us/sample - loss: 0.4943 - acc: 0.7427\n",
      "Epoch 101/150\n",
      "614/614 [==============================] - 0s 189us/sample - loss: 0.5304 - acc: 0.7410\n",
      "Epoch 102/150\n",
      "614/614 [==============================] - 0s 199us/sample - loss: 0.5104 - acc: 0.7541\n",
      "Epoch 103/150\n",
      "614/614 [==============================] - 0s 197us/sample - loss: 0.4707 - acc: 0.7850\n",
      "Epoch 104/150\n",
      "614/614 [==============================] - 0s 191us/sample - loss: 0.4521 - acc: 0.7769\n",
      "Epoch 105/150\n",
      "614/614 [==============================] - 0s 199us/sample - loss: 0.4712 - acc: 0.7769\n",
      "Epoch 106/150\n",
      "614/614 [==============================] - 0s 197us/sample - loss: 0.4471 - acc: 0.7834\n",
      "Epoch 107/150\n",
      "614/614 [==============================] - 0s 191us/sample - loss: 0.4860 - acc: 0.7622\n",
      "Epoch 108/150\n",
      "614/614 [==============================] - 0s 192us/sample - loss: 0.4570 - acc: 0.7915\n",
      "Epoch 109/150\n",
      "614/614 [==============================] - 0s 197us/sample - loss: 0.4395 - acc: 0.7850\n",
      "Epoch 110/150\n",
      "614/614 [==============================] - 0s 192us/sample - loss: 0.4595 - acc: 0.7671\n",
      "Epoch 111/150\n",
      "614/614 [==============================] - 0s 197us/sample - loss: 0.4382 - acc: 0.7769\n",
      "Epoch 112/150\n",
      "614/614 [==============================] - 0s 194us/sample - loss: 0.4495 - acc: 0.7752\n",
      "Epoch 113/150\n",
      "614/614 [==============================] - 0s 174us/sample - loss: 0.4393 - acc: 0.7883s - loss: 0.4409 - acc: 0.786\n",
      "Epoch 114/150\n",
      "614/614 [==============================] - 0s 176us/sample - loss: 0.4564 - acc: 0.7785\n",
      "Epoch 115/150\n",
      "614/614 [==============================] - ETA: 0s - loss: 0.4343 - acc: 0.774 - 0s 183us/sample - loss: 0.4369 - acc: 0.7720\n",
      "Epoch 116/150\n",
      "614/614 [==============================] - 0s 170us/sample - loss: 0.4282 - acc: 0.7899\n",
      "Epoch 117/150\n",
      "614/614 [==============================] - 0s 171us/sample - loss: 0.4329 - acc: 0.7964\n",
      "Epoch 118/150\n",
      "614/614 [==============================] - 0s 166us/sample - loss: 0.4318 - acc: 0.7980\n",
      "Epoch 119/150\n",
      "614/614 [==============================] - 0s 163us/sample - loss: 0.4461 - acc: 0.7671\n",
      "Epoch 120/150\n",
      "614/614 [==============================] - 0s 179us/sample - loss: 0.4395 - acc: 0.7948\n",
      "Epoch 121/150\n",
      "614/614 [==============================] - 0s 181us/sample - loss: 0.4298 - acc: 0.7997\n",
      "Epoch 122/150\n",
      "614/614 [==============================] - 0s 189us/sample - loss: 0.4328 - acc: 0.7948\n",
      "Epoch 123/150\n",
      "614/614 [==============================] - 0s 194us/sample - loss: 0.4382 - acc: 0.7915\n",
      "Epoch 124/150\n",
      "614/614 [==============================] - 0s 189us/sample - loss: 0.4242 - acc: 0.7932\n",
      "Epoch 125/150\n",
      "614/614 [==============================] - 0s 174us/sample - loss: 0.4352 - acc: 0.8013\n",
      "Epoch 126/150\n",
      "614/614 [==============================] - 0s 179us/sample - loss: 0.4394 - acc: 0.7769\n",
      "Epoch 127/150\n",
      "614/614 [==============================] - 0s 165us/sample - loss: 0.4392 - acc: 0.7801\n",
      "Epoch 128/150\n",
      "614/614 [==============================] - 0s 165us/sample - loss: 0.4219 - acc: 0.7883\n",
      "Epoch 129/150\n",
      "614/614 [==============================] - 0s 173us/sample - loss: 0.4193 - acc: 0.8062\n",
      "Epoch 130/150\n",
      "614/614 [==============================] - 0s 163us/sample - loss: 0.4199 - acc: 0.8029\n",
      "Epoch 131/150\n",
      "614/614 [==============================] - 0s 165us/sample - loss: 0.4234 - acc: 0.7948\n",
      "Epoch 132/150\n",
      "614/614 [==============================] - 0s 165us/sample - loss: 0.4175 - acc: 0.8046\n",
      "Epoch 133/150\n",
      "614/614 [==============================] - 0s 155us/sample - loss: 0.4363 - acc: 0.7801\n",
      "Epoch 134/150\n",
      "614/614 [==============================] - 0s 173us/sample - loss: 0.4328 - acc: 0.7818\n",
      "Epoch 135/150\n",
      "614/614 [==============================] - 0s 176us/sample - loss: 0.4527 - acc: 0.7736\n",
      "Epoch 136/150\n",
      "614/614 [==============================] - 0s 176us/sample - loss: 0.4210 - acc: 0.8078\n",
      "Epoch 137/150\n",
      "614/614 [==============================] - 0s 184us/sample - loss: 0.4114 - acc: 0.7997\n",
      "Epoch 138/150\n",
      "614/614 [==============================] - 0s 176us/sample - loss: 0.4099 - acc: 0.8111\n",
      "Epoch 139/150\n",
      "614/614 [==============================] - 0s 163us/sample - loss: 0.4019 - acc: 0.8111\n",
      "Epoch 140/150\n",
      "614/614 [==============================] - 0s 163us/sample - loss: 0.4142 - acc: 0.8176\n",
      "Epoch 141/150\n",
      "614/614 [==============================] - 0s 166us/sample - loss: 0.4362 - acc: 0.7899\n",
      "Epoch 142/150\n",
      "614/614 [==============================] - 0s 176us/sample - loss: 0.4112 - acc: 0.8094\n",
      "Epoch 143/150\n",
      "614/614 [==============================] - 0s 174us/sample - loss: 0.4169 - acc: 0.8111\n",
      "Epoch 144/150\n",
      "614/614 [==============================] - 0s 166us/sample - loss: 0.4250 - acc: 0.8046\n",
      "Epoch 145/150\n",
      "614/614 [==============================] - 0s 174us/sample - loss: 0.4144 - acc: 0.8062\n",
      "Epoch 146/150\n",
      "614/614 [==============================] - 0s 160us/sample - loss: 0.4158 - acc: 0.7948\n",
      "Epoch 147/150\n",
      "614/614 [==============================] - 0s 179us/sample - loss: 0.4011 - acc: 0.8127\n",
      "Epoch 148/150\n",
      "614/614 [==============================] - 0s 165us/sample - loss: 0.4113 - acc: 0.8078\n",
      "Epoch 149/150\n",
      "614/614 [==============================] - 0s 179us/sample - loss: 0.3912 - acc: 0.8257\n",
      "Epoch 150/150\n",
      "614/614 [==============================] - 0s 168us/sample - loss: 0.4002 - acc: 0.8225\n"
     ]
    },
    {
     "data": {
      "text/plain": [
       "<tensorflow.python.keras.callbacks.History at 0x2493275710>"
      ]
     },
     "execution_count": 63,
     "metadata": {},
     "output_type": "execute_result"
    }
   ],
   "source": [
    "model.fit(x1_train,y1_train,epochs=150,batch_size=10)"
   ]
  },
  {
   "cell_type": "code",
   "execution_count": null,
   "metadata": {},
   "outputs": [],
   "source": []
  }
 ],
 "metadata": {
  "kernelspec": {
   "display_name": "Python 3",
   "language": "python",
   "name": "python3"
  },
  "language_info": {
   "codemirror_mode": {
    "name": "ipython",
    "version": 3
   },
   "file_extension": ".py",
   "mimetype": "text/x-python",
   "name": "python",
   "nbconvert_exporter": "python",
   "pygments_lexer": "ipython3",
   "version": "3.7.3"
  }
 },
 "nbformat": 4,
 "nbformat_minor": 2
}
